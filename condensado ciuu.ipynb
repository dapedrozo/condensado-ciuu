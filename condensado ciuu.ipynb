{
 "cells": [
  {
   "cell_type": "code",
   "execution_count": 1,
   "metadata": {},
   "outputs": [],
   "source": [
    "import pandas as pd\n",
    "import numpy as np"
   ]
  },
  {
   "cell_type": "code",
   "execution_count": 2,
   "metadata": {},
   "outputs": [],
   "source": [
    "ciuu = pd.read_excel(\"Ciiu por sectores y subsectores.xls\")"
   ]
  },
  {
   "cell_type": "code",
   "execution_count": 3,
   "metadata": {},
   "outputs": [
    {
     "data": {
      "text/html": [
       "<div>\n",
       "<style scoped>\n",
       "    .dataframe tbody tr th:only-of-type {\n",
       "        vertical-align: middle;\n",
       "    }\n",
       "\n",
       "    .dataframe tbody tr th {\n",
       "        vertical-align: top;\n",
       "    }\n",
       "\n",
       "    .dataframe thead th {\n",
       "        text-align: right;\n",
       "    }\n",
       "</style>\n",
       "<table border=\"1\" class=\"dataframe\">\n",
       "  <thead>\n",
       "    <tr style=\"text-align: right;\">\n",
       "      <th></th>\n",
       "      <th>CIIU</th>\n",
       "      <th>NOMBRE_CIIU</th>\n",
       "      <th>SECTOR</th>\n",
       "      <th>DESC_SECTOR</th>\n",
       "      <th>SUB_SECTOR</th>\n",
       "      <th>DESC_SUB_SECTOR</th>\n",
       "    </tr>\n",
       "  </thead>\n",
       "  <tbody>\n",
       "    <tr>\n",
       "      <td>0</td>\n",
       "      <td>111</td>\n",
       "      <td>CULTIVO DE CEREALES (EXCEPTO ARROZ), LEGUMBRES...</td>\n",
       "      <td>1</td>\n",
       "      <td>AGRICULTURA, GANADERÍA, CAZA, SILVICULTURA Y P...</td>\n",
       "      <td>1</td>\n",
       "      <td>AGRICULTURA, GANADERÍA, CAZA Y ACTIVIDADES DE ...</td>\n",
       "    </tr>\n",
       "    <tr>\n",
       "      <td>1</td>\n",
       "      <td>112</td>\n",
       "      <td>CULTIVO DE ARROZ.</td>\n",
       "      <td>1</td>\n",
       "      <td>AGRICULTURA, GANADERÍA, CAZA, SILVICULTURA Y P...</td>\n",
       "      <td>1</td>\n",
       "      <td>AGRICULTURA, GANADERÍA, CAZA Y ACTIVIDADES DE ...</td>\n",
       "    </tr>\n",
       "    <tr>\n",
       "      <td>2</td>\n",
       "      <td>113</td>\n",
       "      <td>CULTIVO DE HORTALIZAS, RAÍCES Y TUBÉRCULOS.</td>\n",
       "      <td>1</td>\n",
       "      <td>AGRICULTURA, GANADERÍA, CAZA, SILVICULTURA Y P...</td>\n",
       "      <td>1</td>\n",
       "      <td>AGRICULTURA, GANADERÍA, CAZA Y ACTIVIDADES DE ...</td>\n",
       "    </tr>\n",
       "    <tr>\n",
       "      <td>3</td>\n",
       "      <td>114</td>\n",
       "      <td>CULTIVO DE TABACO.</td>\n",
       "      <td>1</td>\n",
       "      <td>AGRICULTURA, GANADERÍA, CAZA, SILVICULTURA Y P...</td>\n",
       "      <td>1</td>\n",
       "      <td>AGRICULTURA, GANADERÍA, CAZA Y ACTIVIDADES DE ...</td>\n",
       "    </tr>\n",
       "    <tr>\n",
       "      <td>4</td>\n",
       "      <td>115</td>\n",
       "      <td>CULTIVO DE PLANTAS TEXTILES.</td>\n",
       "      <td>1</td>\n",
       "      <td>AGRICULTURA, GANADERÍA, CAZA, SILVICULTURA Y P...</td>\n",
       "      <td>1</td>\n",
       "      <td>AGRICULTURA, GANADERÍA, CAZA Y ACTIVIDADES DE ...</td>\n",
       "    </tr>\n",
       "  </tbody>\n",
       "</table>\n",
       "</div>"
      ],
      "text/plain": [
       "   CIIU                                        NOMBRE_CIIU  SECTOR  \\\n",
       "0   111  CULTIVO DE CEREALES (EXCEPTO ARROZ), LEGUMBRES...       1   \n",
       "1   112                                  CULTIVO DE ARROZ.       1   \n",
       "2   113        CULTIVO DE HORTALIZAS, RAÍCES Y TUBÉRCULOS.       1   \n",
       "3   114                                 CULTIVO DE TABACO.       1   \n",
       "4   115                       CULTIVO DE PLANTAS TEXTILES.       1   \n",
       "\n",
       "                                         DESC_SECTOR  SUB_SECTOR  \\\n",
       "0  AGRICULTURA, GANADERÍA, CAZA, SILVICULTURA Y P...           1   \n",
       "1  AGRICULTURA, GANADERÍA, CAZA, SILVICULTURA Y P...           1   \n",
       "2  AGRICULTURA, GANADERÍA, CAZA, SILVICULTURA Y P...           1   \n",
       "3  AGRICULTURA, GANADERÍA, CAZA, SILVICULTURA Y P...           1   \n",
       "4  AGRICULTURA, GANADERÍA, CAZA, SILVICULTURA Y P...           1   \n",
       "\n",
       "                                     DESC_SUB_SECTOR  \n",
       "0  AGRICULTURA, GANADERÍA, CAZA Y ACTIVIDADES DE ...  \n",
       "1  AGRICULTURA, GANADERÍA, CAZA Y ACTIVIDADES DE ...  \n",
       "2  AGRICULTURA, GANADERÍA, CAZA Y ACTIVIDADES DE ...  \n",
       "3  AGRICULTURA, GANADERÍA, CAZA Y ACTIVIDADES DE ...  \n",
       "4  AGRICULTURA, GANADERÍA, CAZA Y ACTIVIDADES DE ...  "
      ]
     },
     "execution_count": 3,
     "metadata": {},
     "output_type": "execute_result"
    }
   ],
   "source": [
    "ciuu.head()"
   ]
  },
  {
   "cell_type": "code",
   "execution_count": 4,
   "metadata": {},
   "outputs": [
    {
     "data": {
      "text/plain": [
       "496"
      ]
     },
     "execution_count": 4,
     "metadata": {},
     "output_type": "execute_result"
    }
   ],
   "source": [
    "len(ciuu)"
   ]
  },
  {
   "cell_type": "code",
   "execution_count": 11,
   "metadata": {},
   "outputs": [
    {
     "data": {
      "text/html": [
       "<div>\n",
       "<style scoped>\n",
       "    .dataframe tbody tr th:only-of-type {\n",
       "        vertical-align: middle;\n",
       "    }\n",
       "\n",
       "    .dataframe tbody tr th {\n",
       "        vertical-align: top;\n",
       "    }\n",
       "\n",
       "    .dataframe thead th {\n",
       "        text-align: right;\n",
       "    }\n",
       "</style>\n",
       "<table border=\"1\" class=\"dataframe\">\n",
       "  <thead>\n",
       "    <tr style=\"text-align: right;\">\n",
       "      <th></th>\n",
       "      <th></th>\n",
       "      <th></th>\n",
       "      <th>CIIU</th>\n",
       "    </tr>\n",
       "    <tr>\n",
       "      <th>SECTOR</th>\n",
       "      <th>DESC_SECTOR</th>\n",
       "      <th>CIIU</th>\n",
       "      <th></th>\n",
       "    </tr>\n",
       "  </thead>\n",
       "  <tbody>\n",
       "    <tr>\n",
       "      <td rowspan=\"5\" valign=\"top\">1</td>\n",
       "      <td rowspan=\"5\" valign=\"top\">AGRICULTURA, GANADERÍA, CAZA, SILVICULTURA Y PESCA</td>\n",
       "      <td>111</td>\n",
       "      <td>1</td>\n",
       "    </tr>\n",
       "    <tr>\n",
       "      <td>112</td>\n",
       "      <td>1</td>\n",
       "    </tr>\n",
       "    <tr>\n",
       "      <td>113</td>\n",
       "      <td>1</td>\n",
       "    </tr>\n",
       "    <tr>\n",
       "      <td>114</td>\n",
       "      <td>1</td>\n",
       "    </tr>\n",
       "    <tr>\n",
       "      <td>115</td>\n",
       "      <td>1</td>\n",
       "    </tr>\n",
       "    <tr>\n",
       "      <td>...</td>\n",
       "      <td>...</td>\n",
       "      <td>...</td>\n",
       "      <td>...</td>\n",
       "    </tr>\n",
       "    <tr>\n",
       "      <td rowspan=\"3\" valign=\"top\">20</td>\n",
       "      <td rowspan=\"3\" valign=\"top\">ACTIVIDADES DE LOS HOGARES INDIVIDUALES EN CALIDAD DE EMPLEADORES; ACTIVIDADES NO DIFERENCIADAS DE LOS HOGARES INDIVIDUALES COMO PRODUCTORES DE BIENES Y SERVICIOS PARA USO PROPIO.</td>\n",
       "      <td>9700</td>\n",
       "      <td>1</td>\n",
       "    </tr>\n",
       "    <tr>\n",
       "      <td>9810</td>\n",
       "      <td>1</td>\n",
       "    </tr>\n",
       "    <tr>\n",
       "      <td>9820</td>\n",
       "      <td>1</td>\n",
       "    </tr>\n",
       "    <tr>\n",
       "      <td>21</td>\n",
       "      <td>ACTIVIDADES DE ORGANIZACIONES Y ENTIDADES EXTRATERRITORIALES</td>\n",
       "      <td>9900</td>\n",
       "      <td>1</td>\n",
       "    </tr>\n",
       "    <tr>\n",
       "      <td>22</td>\n",
       "      <td>PENDIENTE ACTUALIZAR CODIFICACION CIIU VERSION 4</td>\n",
       "      <td>9999</td>\n",
       "      <td>1</td>\n",
       "    </tr>\n",
       "  </tbody>\n",
       "</table>\n",
       "<p>496 rows × 1 columns</p>\n",
       "</div>"
      ],
      "text/plain": [
       "                                                                CIIU\n",
       "SECTOR DESC_SECTOR                                        CIIU      \n",
       "1      AGRICULTURA, GANADERÍA, CAZA, SILVICULTURA Y PESCA 111      1\n",
       "                                                          112      1\n",
       "                                                          113      1\n",
       "                                                          114      1\n",
       "                                                          115      1\n",
       "...                                                              ...\n",
       "20     ACTIVIDADES DE LOS HOGARES INDIVIDUALES EN CALI... 9700     1\n",
       "                                                          9810     1\n",
       "                                                          9820     1\n",
       "21     ACTIVIDADES DE ORGANIZACIONES Y ENTIDADES EXTRA... 9900     1\n",
       "22     PENDIENTE ACTUALIZAR CODIFICACION CIIU VERSION 4   9999     1\n",
       "\n",
       "[496 rows x 1 columns]"
      ]
     },
     "execution_count": 11,
     "metadata": {},
     "output_type": "execute_result"
    }
   ],
   "source": [
    "consociuu = ciuu.groupby(['SECTOR','DESC_SECTOR','CIIU'])[['CIIU']].count()\n",
    "consociuu"
   ]
  },
  {
   "cell_type": "code",
   "execution_count": null,
   "metadata": {},
   "outputs": [],
   "source": [
    "consociuu.to_excel('consociuu.xlsx')"
   ]
  },
  {
   "cell_type": "code",
   "execution_count": 16,
   "metadata": {},
   "outputs": [
    {
     "name": "stdout",
     "output_type": "stream",
     "text": [
      "[4111, 4112, 4210, 4220, 4290, 4311, 4312, 4321, 4322, 4329, 4330, 4390]\n"
     ]
    }
   ],
   "source": [
    "ciuuconstruccion = ciuu[(ciuu[\"SECTOR\"]==6)]\n",
    "print(ciuuconstruccion['CIIU'].tolist())"
   ]
  },
  {
   "cell_type": "code",
   "execution_count": 17,
   "metadata": {},
   "outputs": [
    {
     "name": "stdout",
     "output_type": "stream",
     "text": [
      "[1011, 1012, 1020, 1030, 1040, 1051, 1052, 1061, 1062, 1063, 1071, 1072, 1081, 1082, 1083, 1084, 1089, 1090, 1101, 1102, 1103, 1104, 1200, 1311, 1312, 1313, 1391, 1392, 1393, 1394, 1399, 1410, 1420, 1430, 1511, 1512, 1513, 1521, 1522, 1523, 1610, 1620, 1630, 1640, 1690, 1701, 1702, 1709, 1811, 1812, 1820, 1910, 1921, 1922, 2011, 2012, 2013, 2014, 2021, 2022, 2023, 2029, 2030, 2100, 2211, 2212, 2219, 2221, 2229, 2310, 2391, 2392, 2393, 2394, 2395, 2396, 2399, 2410, 2421, 2429, 2431, 2432, 2511, 2512, 2513, 2520, 2591, 2592, 2593, 2599, 2610, 2620, 2630, 2640, 2651, 2652, 2660, 2670, 2680, 2711, 2712, 2720, 2731, 2732, 2740, 2750, 2790, 2811, 2812, 2813, 2814, 2815, 2816, 2817, 2818, 2819, 2821, 2822, 2823, 2824, 2825, 2826, 2829, 2910, 2920, 2930, 3011, 3012, 3020, 3030, 3040, 3091, 3092, 3099, 3110, 3120, 3210, 3220, 3230, 3240, 3250, 3290, 3311, 3312, 3313, 3314, 3315, 3319, 3320]\n"
     ]
    }
   ],
   "source": [
    "ciuumanufactura = ciuu[(ciuu[\"SECTOR\"]==3)]\n",
    "print(ciuumanufactura['CIIU'].tolist())"
   ]
  },
  {
   "cell_type": "code",
   "execution_count": null,
   "metadata": {},
   "outputs": [],
   "source": [
    "ciuuconstruccion.to_excel('ciuuconstruccion.xlsx')\n",
    "ciuumanufactura.to_excel('ciuumanufactura.xlsx')"
   ]
  },
  {
   "cell_type": "code",
   "execution_count": null,
   "metadata": {},
   "outputs": [],
   "source": [
    "#faltan estos CIUU en la hoja del filtro\n",
    "1011, 1012, 1020, 1030, 1040, 1051, 1052, 1061, 1062, 1063, 1071, 1072, 1081, 1082, 1083, 1084,\n",
    "1089, 1090, 1101, 1102, 1103, 1104, 1200,1811, 1812, 1820, 1921, 1922, 2012, 2021, 2100, 2394, 2610\n",
    "2620, 2630, 2640, 2651, 2652,2670, 2680, 2910, 2920, 2930, 3011, 3012, 3020, 3030, 3040, 3091, 3099, 3110, \n",
    "3120, 3210, 3220, 3230, 3240, 3290\n",
    "#tenemos CIUU 4659 corresponde a: COMERCIO AL POR MAYOR DE OTROS TIPOS DE MAQUINARIA Y EQUIPO N.C.P.\n",
    "#tenemos CIUU 4751 corresponde a: COMERCIO AL POR MENOR DE PRODUCTOS TEXTILES EN ESTABLECIMIENTOS ESPECIALIZADOS.\n",
    "#ambos CIUU pertenecen al sector 7 COMERCIO AL POR MAYOR Y AL POR MENOR; REPARACIÓN DE VEHÍCULOS AUTOMOTORES Y MOTOCICLETAS"
   ]
  }
 ],
 "metadata": {
  "kernelspec": {
   "display_name": "Python 3",
   "language": "python",
   "name": "python3"
  },
  "language_info": {
   "codemirror_mode": {
    "name": "ipython",
    "version": 3
   },
   "file_extension": ".py",
   "mimetype": "text/x-python",
   "name": "python",
   "nbconvert_exporter": "python",
   "pygments_lexer": "ipython3",
   "version": "3.7.4"
  }
 },
 "nbformat": 4,
 "nbformat_minor": 2
}
